{
 "cells": [
  {
   "cell_type": "markdown",
   "metadata": {},
   "source": [
    "## Deliverable 3. Create a Travel Itinerary Map."
   ]
  },
  {
   "cell_type": "code",
   "execution_count": 1,
   "metadata": {},
   "outputs": [],
   "source": [
    "# Dependencies and Setup\n",
    "import pandas as pd\n",
    "import requests\n",
    "import gmaps\n",
    "\n",
    "# Import API key\n",
    "from config import g_key\n",
    "\n",
    "# Configure gmaps\n",
    "gmaps.configure(api_key=g_key)"
   ]
  },
  {
   "cell_type": "code",
   "execution_count": 16,
   "metadata": {},
   "outputs": [
    {
     "data": {
      "text/html": [
       "<div>\n",
       "<style scoped>\n",
       "    .dataframe tbody tr th:only-of-type {\n",
       "        vertical-align: middle;\n",
       "    }\n",
       "\n",
       "    .dataframe tbody tr th {\n",
       "        vertical-align: top;\n",
       "    }\n",
       "\n",
       "    .dataframe thead th {\n",
       "        text-align: right;\n",
       "    }\n",
       "</style>\n",
       "<table border=\"1\" class=\"dataframe\">\n",
       "  <thead>\n",
       "    <tr style=\"text-align: right;\">\n",
       "      <th></th>\n",
       "      <th>City_ID</th>\n",
       "      <th>City</th>\n",
       "      <th>Country</th>\n",
       "      <th>Max Temp</th>\n",
       "      <th>Current Description</th>\n",
       "      <th>Lat</th>\n",
       "      <th>Lng</th>\n",
       "      <th>Hotel Name</th>\n",
       "    </tr>\n",
       "  </thead>\n",
       "  <tbody>\n",
       "    <tr>\n",
       "      <th>169</th>\n",
       "      <td>469</td>\n",
       "      <td>Saint-Joseph</td>\n",
       "      <td>RE</td>\n",
       "      <td>78.80</td>\n",
       "      <td>light rain</td>\n",
       "      <td>-21.3667</td>\n",
       "      <td>55.6167</td>\n",
       "      <td>\"Plantation Bed and Breakfast</td>\n",
       "    </tr>\n",
       "    <tr>\n",
       "      <th>170</th>\n",
       "      <td>472</td>\n",
       "      <td>Say</td>\n",
       "      <td>NE</td>\n",
       "      <td>87.80</td>\n",
       "      <td>clear sky</td>\n",
       "      <td>13.1007</td>\n",
       "      <td>2.3689</td>\n",
       "      <td>NaN</td>\n",
       "    </tr>\n",
       "    <tr>\n",
       "      <th>171</th>\n",
       "      <td>473</td>\n",
       "      <td>Port Hedland</td>\n",
       "      <td>AU</td>\n",
       "      <td>84.20</td>\n",
       "      <td>broken clouds</td>\n",
       "      <td>-20.3167</td>\n",
       "      <td>118.5667</td>\n",
       "      <td>The Esplanade Hotel</td>\n",
       "    </tr>\n",
       "    <tr>\n",
       "      <th>172</th>\n",
       "      <td>475</td>\n",
       "      <td>Bubaque</td>\n",
       "      <td>GW</td>\n",
       "      <td>77.83</td>\n",
       "      <td>broken clouds</td>\n",
       "      <td>11.2833</td>\n",
       "      <td>-15.8333</td>\n",
       "      <td>Casa Dora, Bubaque</td>\n",
       "    </tr>\n",
       "    <tr>\n",
       "      <th>173</th>\n",
       "      <td>480</td>\n",
       "      <td>Celestun</td>\n",
       "      <td>MX</td>\n",
       "      <td>78.89</td>\n",
       "      <td>overcast clouds</td>\n",
       "      <td>20.8667</td>\n",
       "      <td>-90.4000</td>\n",
       "      <td>Posada Lilia</td>\n",
       "    </tr>\n",
       "  </tbody>\n",
       "</table>\n",
       "</div>"
      ],
      "text/plain": [
       "     City_ID          City Country  Max Temp Current Description      Lat  \\\n",
       "169      469  Saint-Joseph      RE     78.80          light rain -21.3667   \n",
       "170      472           Say      NE     87.80           clear sky  13.1007   \n",
       "171      473  Port Hedland      AU     84.20       broken clouds -20.3167   \n",
       "172      475       Bubaque      GW     77.83       broken clouds  11.2833   \n",
       "173      480      Celestun      MX     78.89     overcast clouds  20.8667   \n",
       "\n",
       "          Lng                     Hotel Name  \n",
       "169   55.6167  \"Plantation Bed and Breakfast  \n",
       "170    2.3689                            NaN  \n",
       "171  118.5667            The Esplanade Hotel  \n",
       "172  -15.8333             Casa Dora, Bubaque  \n",
       "173  -90.4000                   Posada Lilia  "
      ]
     },
     "execution_count": 16,
     "metadata": {},
     "output_type": "execute_result"
    }
   ],
   "source": [
    "# 1. Read the WeatherPy_vacation.csv into a DataFrame.\n",
    "vacation_df = pd.read_csv(\"../Vacation_Search/WeatherPy_vacation.csv\")\n",
    "vacation_df.tail()"
   ]
  },
  {
   "cell_type": "code",
   "execution_count": 18,
   "metadata": {},
   "outputs": [
    {
     "data": {
      "text/html": [
       "<div>\n",
       "<style scoped>\n",
       "    .dataframe tbody tr th:only-of-type {\n",
       "        vertical-align: middle;\n",
       "    }\n",
       "\n",
       "    .dataframe tbody tr th {\n",
       "        vertical-align: top;\n",
       "    }\n",
       "\n",
       "    .dataframe thead th {\n",
       "        text-align: right;\n",
       "    }\n",
       "</style>\n",
       "<table border=\"1\" class=\"dataframe\">\n",
       "  <thead>\n",
       "    <tr style=\"text-align: right;\">\n",
       "      <th></th>\n",
       "      <th>City_ID</th>\n",
       "      <th>City</th>\n",
       "      <th>Country</th>\n",
       "      <th>Max Temp</th>\n",
       "      <th>Current Description</th>\n",
       "      <th>Lat</th>\n",
       "      <th>Lng</th>\n",
       "      <th>Hotel Name</th>\n",
       "    </tr>\n",
       "  </thead>\n",
       "  <tbody>\n",
       "    <tr>\n",
       "      <th>0</th>\n",
       "      <td>0</td>\n",
       "      <td>Puerto Ayora</td>\n",
       "      <td>EC</td>\n",
       "      <td>77.00</td>\n",
       "      <td>broken clouds</td>\n",
       "      <td>-0.7393</td>\n",
       "      <td>-90.3518</td>\n",
       "      <td>Finch Bay Galapagos Hotel</td>\n",
       "    </tr>\n",
       "    <tr>\n",
       "      <th>1</th>\n",
       "      <td>3</td>\n",
       "      <td>Las Vegas</td>\n",
       "      <td>US</td>\n",
       "      <td>87.80</td>\n",
       "      <td>clear sky</td>\n",
       "      <td>36.1750</td>\n",
       "      <td>-115.1372</td>\n",
       "      <td>Plaza Hotel &amp; Casino</td>\n",
       "    </tr>\n",
       "    <tr>\n",
       "      <th>2</th>\n",
       "      <td>10</td>\n",
       "      <td>Mahebourg</td>\n",
       "      <td>MU</td>\n",
       "      <td>77.00</td>\n",
       "      <td>light rain</td>\n",
       "      <td>-20.4081</td>\n",
       "      <td>57.7000</td>\n",
       "      <td>Shandrani Beachcomber Resort &amp; Spa</td>\n",
       "    </tr>\n",
       "    <tr>\n",
       "      <th>3</th>\n",
       "      <td>14</td>\n",
       "      <td>San Lorenzo</td>\n",
       "      <td>PY</td>\n",
       "      <td>78.01</td>\n",
       "      <td>clear sky</td>\n",
       "      <td>-25.3333</td>\n",
       "      <td>-57.5333</td>\n",
       "      <td>Hotel del Sur</td>\n",
       "    </tr>\n",
       "    <tr>\n",
       "      <th>4</th>\n",
       "      <td>16</td>\n",
       "      <td>Avarua</td>\n",
       "      <td>CK</td>\n",
       "      <td>84.20</td>\n",
       "      <td>broken clouds</td>\n",
       "      <td>-21.2078</td>\n",
       "      <td>-159.7750</td>\n",
       "      <td>Paradise Inn</td>\n",
       "    </tr>\n",
       "  </tbody>\n",
       "</table>\n",
       "</div>"
      ],
      "text/plain": [
       "   City_ID          City Country  Max Temp Current Description      Lat  \\\n",
       "0        0  Puerto Ayora      EC     77.00       broken clouds  -0.7393   \n",
       "1        3     Las Vegas      US     87.80           clear sky  36.1750   \n",
       "2       10     Mahebourg      MU     77.00          light rain -20.4081   \n",
       "3       14   San Lorenzo      PY     78.01           clear sky -25.3333   \n",
       "4       16        Avarua      CK     84.20       broken clouds -21.2078   \n",
       "\n",
       "        Lng                          Hotel Name  \n",
       "0  -90.3518           Finch Bay Galapagos Hotel  \n",
       "1 -115.1372                Plaza Hotel & Casino  \n",
       "2   57.7000  Shandrani Beachcomber Resort & Spa  \n",
       "3  -57.5333                       Hotel del Sur  \n",
       "4 -159.7750                        Paradise Inn  "
      ]
     },
     "execution_count": 18,
     "metadata": {},
     "output_type": "execute_result"
    }
   ],
   "source": [
    "preferred_vacation_df = vacation_df.dropna()\n",
    "preferred_vacation_df.head()"
   ]
  },
  {
   "cell_type": "code",
   "execution_count": 19,
   "metadata": {},
   "outputs": [],
   "source": [
    "# 2. Using the template add the city name, the country code, the weather description and maximum temperature for the city.\n",
    "info_box_template = \"\"\"\n",
    "<dl>\n",
    "<dt>Hotel Name</dt><dd>{Hotel Name}</dd>\n",
    "<dt>City</dt><dd>{City}</dd>\n",
    "<dt>Country</dt><dd>{Country}</dd>\n",
    "<dt>Current Description</dt><dd>{Current Description}</dd>\n",
    "<dt>Max Temp</dt><dd>{Max Temp} °F</dd>\n",
    "</dl>\n",
    "\"\"\"\n",
    "\n",
    "# 3a. Get the data from each row and add it to the formatting template and store the data in a list.\n",
    "preferred_vacation_info = [info_box_template.format(**row) for index, row in preferred_vacation_df.iterrows()]\n",
    "\n",
    "# 3b. Get the latitude and longitude from each row and store in a new DataFrame.\n",
    "locations = preferred_vacation_df[[\"Lat\", \"Lng\"]]"
   ]
  },
  {
   "cell_type": "code",
   "execution_count": 20,
   "metadata": {},
   "outputs": [
    {
     "data": {
      "application/vnd.jupyter.widget-view+json": {
       "model_id": "2e0b0f7f92fd4a528dd37b87ee6f6b9b",
       "version_major": 2,
       "version_minor": 0
      },
      "text/plain": [
       "Figure(layout=FigureLayout(height='420px'))"
      ]
     },
     "metadata": {},
     "output_type": "display_data"
    }
   ],
   "source": [
    "# 4a. Add a marker layer for each city to the map.\n",
    "locations = preferred_vacation_df[[\"Lat\", \"Lng\"]]\n",
    "max_temp = preferred_vacation_df[\"Max Temp\"]\n",
    "fig = gmaps.figure(center=(30.0, 31.0), zoom_level=1.5)\n",
    "heat_layer = gmaps.heatmap_layer(locations, weights=max_temp,dissipating=False,\n",
    "             max_intensity=300, point_radius=4)\n",
    "marker_layer = gmaps.marker_layer(locations, info_box_content=preferred_vacation_info)\n",
    "fig.add_layer(heat_layer)\n",
    "fig.add_layer(marker_layer)\n",
    "# 4b. Display the figure\n",
    "fig\n"
   ]
  },
  {
   "cell_type": "code",
   "execution_count": 22,
   "metadata": {},
   "outputs": [],
   "source": [
    "# From the map above pick 4 cities and create a vacation itinerary route to travel between the four cities. \n",
    "# 5. Create DataFrames for each city by filtering the 'vacation_df' using the loc method. \n",
    "# Hint: The starting and ending city should be the same city.\n",
    "\n",
    "preferred_vacation_start = preferred_vacation_df.loc[preferred_vacation_df['City']=='Acapulco']\n",
    "preferred_vacation_end = preferred_vacation_df.loc[preferred_vacation_df['City']=='Acapulco']\n",
    "preferred_vacation_stop1 = preferred_vacation_df.loc[preferred_vacation_df['City']=='Ixtapa']\n",
    "preferred_vacation_stop2 = preferred_vacation_df.loc[preferred_vacation_df['City']=='Puerto Escondido'] \n",
    "preferred_vacation_stop3 = preferred_vacation_df.loc[preferred_vacation_df['City']=='Cabo San Lucas'] "
   ]
  },
  {
   "cell_type": "code",
   "execution_count": 24,
   "metadata": {},
   "outputs": [
    {
     "name": "stdout",
     "output_type": "stream",
     "text": [
      "Start: (16.8634, -99.8901), End: (16.8634, -99.8901)\n",
      "Stop 1: (20.7, -105.2), Stop 2: (15.85, -97.0667), Stop 3: (22.8909, -109.9124)\n"
     ]
    }
   ],
   "source": [
    "# 6. Get the latitude-longitude pairs as tuples from each city DataFrame using the to_numpy function and list indexing.\n",
    "start = preferred_vacation_start[\"Lat\"].to_numpy()[0],preferred_vacation_start[\"Lng\"].to_numpy()[0]\n",
    "end = preferred_vacation_start[\"Lat\"].to_numpy()[0],preferred_vacation_start[\"Lng\"].to_numpy()[0]\n",
    "stop1 = preferred_vacation_stop1[\"Lat\"].to_numpy()[0], preferred_vacation_stop1[\"Lng\"].to_numpy()[0]\n",
    "stop2 = preferred_vacation_stop2[\"Lat\"].to_numpy()[0], preferred_vacation_stop2[\"Lng\"].to_numpy()[0]\n",
    "stop3 = preferred_vacation_stop3[\"Lat\"].to_numpy()[0], preferred_vacation_stop3[\"Lng\"].to_numpy()[0]\n",
    "print(f'Start: {start}, End: {end}')\n",
    "\n",
    "print(f'Stop 1: {stop1}, Stop 2: {stop2}, Stop 3: {stop3}')"
   ]
  },
  {
   "cell_type": "code",
   "execution_count": 25,
   "metadata": {
    "scrolled": true
   },
   "outputs": [
    {
     "data": {
      "application/vnd.jupyter.widget-view+json": {
       "model_id": "2c0c96a17d864b2982a6856cf61a71e2",
       "version_major": 2,
       "version_minor": 0
      },
      "text/plain": [
       "Figure(layout=FigureLayout(height='420px'))"
      ]
     },
     "metadata": {},
     "output_type": "display_data"
    }
   ],
   "source": [
    "# 7. Create a direction layer map using the start and end latitude-longitude pairs,\n",
    "# and stop1, stop2, and stop3 as the waypoints. The travel_mode should be \"DRIVING\", \"BICYCLING\", or \"WALKING\".\n",
    "fig = gmaps.figure()\n",
    "preferred_vacation_itinerary = gmaps.directions_layer(\n",
    "        start, end, waypoints=[stop1, stop2, stop3],\n",
    "        travel_mode='DRIVING')\n",
    "\n",
    "fig.add_layer(preferred_vacation_itinerary)\n",
    "fig\n"
   ]
  },
  {
   "cell_type": "code",
   "execution_count": 26,
   "metadata": {},
   "outputs": [
    {
     "data": {
      "text/html": [
       "<div>\n",
       "<style scoped>\n",
       "    .dataframe tbody tr th:only-of-type {\n",
       "        vertical-align: middle;\n",
       "    }\n",
       "\n",
       "    .dataframe tbody tr th {\n",
       "        vertical-align: top;\n",
       "    }\n",
       "\n",
       "    .dataframe thead th {\n",
       "        text-align: right;\n",
       "    }\n",
       "</style>\n",
       "<table border=\"1\" class=\"dataframe\">\n",
       "  <thead>\n",
       "    <tr style=\"text-align: right;\">\n",
       "      <th></th>\n",
       "      <th>City_ID</th>\n",
       "      <th>City</th>\n",
       "      <th>Country</th>\n",
       "      <th>Max Temp</th>\n",
       "      <th>Current Description</th>\n",
       "      <th>Lat</th>\n",
       "      <th>Lng</th>\n",
       "      <th>Hotel Name</th>\n",
       "    </tr>\n",
       "  </thead>\n",
       "  <tbody>\n",
       "    <tr>\n",
       "      <th>0</th>\n",
       "      <td>327</td>\n",
       "      <td>Acapulco</td>\n",
       "      <td>MX</td>\n",
       "      <td>82.4</td>\n",
       "      <td>scattered clouds</td>\n",
       "      <td>16.8634</td>\n",
       "      <td>-99.8901</td>\n",
       "      <td>HS Hotsson Smart Acapulco</td>\n",
       "    </tr>\n",
       "    <tr>\n",
       "      <th>1</th>\n",
       "      <td>285</td>\n",
       "      <td>Ixtapa</td>\n",
       "      <td>MX</td>\n",
       "      <td>77.0</td>\n",
       "      <td>broken clouds</td>\n",
       "      <td>20.7000</td>\n",
       "      <td>-105.2000</td>\n",
       "      <td>Hotel Plaza Providencia</td>\n",
       "    </tr>\n",
       "    <tr>\n",
       "      <th>2</th>\n",
       "      <td>390</td>\n",
       "      <td>Puerto Escondido</td>\n",
       "      <td>MX</td>\n",
       "      <td>84.2</td>\n",
       "      <td>clear sky</td>\n",
       "      <td>15.8500</td>\n",
       "      <td>-97.0667</td>\n",
       "      <td>Aldea del Bazar Hotel and Spa</td>\n",
       "    </tr>\n",
       "    <tr>\n",
       "      <th>3</th>\n",
       "      <td>18</td>\n",
       "      <td>Cabo San Lucas</td>\n",
       "      <td>MX</td>\n",
       "      <td>82.4</td>\n",
       "      <td>scattered clouds</td>\n",
       "      <td>22.8909</td>\n",
       "      <td>-109.9124</td>\n",
       "      <td>Hotel Tesoro Los Cabos</td>\n",
       "    </tr>\n",
       "  </tbody>\n",
       "</table>\n",
       "</div>"
      ],
      "text/plain": [
       "   City_ID              City Country  Max Temp Current Description      Lat  \\\n",
       "0      327          Acapulco      MX      82.4    scattered clouds  16.8634   \n",
       "1      285            Ixtapa      MX      77.0       broken clouds  20.7000   \n",
       "2      390  Puerto Escondido      MX      84.2           clear sky  15.8500   \n",
       "3       18    Cabo San Lucas      MX      82.4    scattered clouds  22.8909   \n",
       "\n",
       "        Lng                     Hotel Name  \n",
       "0  -99.8901      HS Hotsson Smart Acapulco  \n",
       "1 -105.2000        Hotel Plaza Providencia  \n",
       "2  -97.0667  Aldea del Bazar Hotel and Spa  \n",
       "3 -109.9124         Hotel Tesoro Los Cabos  "
      ]
     },
     "execution_count": 26,
     "metadata": {},
     "output_type": "execute_result"
    }
   ],
   "source": [
    "# 8. To create a marker layer map between the four cities.\n",
    "#  Combine the four city DataFrames into one DataFrame using the concat() function.\n",
    "itinerary_df = pd.concat([preferred_vacation_start,preferred_vacation_stop1,preferred_vacation_stop2,preferred_vacation_stop3 ],ignore_index=True)\n",
    "itinerary_df"
   ]
  },
  {
   "cell_type": "code",
   "execution_count": 27,
   "metadata": {},
   "outputs": [],
   "source": [
    "# 9 Using the template add city name, the country code, the weather description and maximum temperature for the city. \n",
    "info_box_template = \"\"\"\n",
    "<dl>\n",
    "<dt>Hotel Name</dt><dd>{Hotel Name}</dd>\n",
    "<dt>City</dt><dd>{City}</dd>\n",
    "<dt>Country</dt><dd>{Country}</dd>\n",
    "<dt>Current Description</dt><dd>{Current Description}</dd>\n",
    "<dt>Max Temp</dt><dd>{Max Temp} °F</dd>\n",
    "</dl>\n",
    "\"\"\"\n",
    "\n",
    "# 10a Get the data from each row and add it to the formatting template and store the data in a list.\n",
    "hotel_info = [info_box_template.format(**row) for index, row in itinerary_df.iterrows()]\n",
    "\n",
    "# 10b. Get the latitude and longitude from each row and store in a new DataFrame.\n",
    "locations = itinerary_df[[\"Lat\", \"Lng\"]]"
   ]
  },
  {
   "cell_type": "code",
   "execution_count": 30,
   "metadata": {},
   "outputs": [
    {
     "data": {
      "application/vnd.jupyter.widget-view+json": {
       "model_id": "62094b4ad6ba40328b59515786e7c9d0",
       "version_major": 2,
       "version_minor": 0
      },
      "text/plain": [
       "Figure(layout=FigureLayout(height='420px'))"
      ]
     },
     "metadata": {},
     "output_type": "display_data"
    }
   ],
   "source": [
    "# 11a. Add a marker layer for each city to the map.\n",
    "locations = itinerary_df[[\"Lat\", \"Lng\"]]\n",
    "max_temp = itinerary_df[\"Max Temp\"]\n",
    "fig = gmaps.figure(center=(10.0, 31.0), zoom_level=1.5)\n",
    "heat_layer = gmaps.heatmap_layer(locations, weights=max_temp,dissipating=False,\n",
    "             max_intensity=300, point_radius=4)\n",
    "marker_layer = gmaps.marker_layer(locations, info_box_content=hotel_info)\n",
    "fig.add_layer(heat_layer)\n",
    "fig.add_layer(marker_layer)\n",
    "\n",
    "# 11b. Display the figure\n",
    "fig"
   ]
  },
  {
   "cell_type": "code",
   "execution_count": null,
   "metadata": {},
   "outputs": [],
   "source": []
  }
 ],
 "metadata": {
  "kernelspec": {
   "display_name": "PythonData",
   "language": "python",
   "name": "pythondata"
  },
  "language_info": {
   "codemirror_mode": {
    "name": "ipython",
    "version": 3
   },
   "file_extension": ".py",
   "mimetype": "text/x-python",
   "name": "python",
   "nbconvert_exporter": "python",
   "pygments_lexer": "ipython3",
   "version": "3.7.9"
  },
  "latex_envs": {
   "LaTeX_envs_menu_present": true,
   "autoclose": false,
   "autocomplete": true,
   "bibliofile": "biblio.bib",
   "cite_by": "apalike",
   "current_citInitial": 1,
   "eqLabelWithNumbers": true,
   "eqNumInitial": 1,
   "hotkeys": {
    "equation": "Ctrl-E",
    "itemize": "Ctrl-I"
   },
   "labels_anchors": false,
   "latex_user_defs": false,
   "report_style_numbering": false,
   "user_envs_cfg": false
  }
 },
 "nbformat": 4,
 "nbformat_minor": 2
}
